{
 "cells": [
  {
   "cell_type": "code",
   "execution_count": null,
   "metadata": {},
   "outputs": [],
   "source": [
    "%pip install \"snowflake-connector-python[pandas]\"\n",
    "%pip install pandas\n",
    "%pip install python-dotenv"
   ]
  },
  {
   "cell_type": "code",
   "execution_count": null,
   "metadata": {},
   "outputs": [],
   "source": [
    "import os, logging\n",
    "import pandas as pd\n",
    "import snowflake.connector"
   ]
  },
  {
   "cell_type": "code",
   "execution_count": null,
   "metadata": {},
   "outputs": [],
   "source": [
    "%load_ext dotenv\n",
    "%dotenv\n",
    "\n",
    "# RELIES ON .env FOR RETIIEVING CREDENTIALS\n",
    "\n",
    "\n",
    "SNOW_PASS = os.getenv('sdl_pwd')\n",
    "SNOW_USER = os.getenv('sdl_user')\n",
    "WAREHOUSE = os.getenv('sdl_warehouse')\n",
    "ACCOUNT = os.getenv('acct_id')"
   ]
  },
  {
   "cell_type": "code",
   "execution_count": null,
   "metadata": {},
   "outputs": [],
   "source": [
    "conn = snowflake.connector.connect(\n",
    "    user=SNOW_USER,\n",
    "    password=SNOW_PASS,\n",
    "    account=ACCOUNT,\n",
    "    authenticator=\"snowflake\",\n",
    "    database='BUS_BATCAVE_SECURITY_DB',\n",
    "    warehouse='BATCAVESECURITY_WH',\n",
    "    role=\"SVC_BATCAVESECURITY_ROLE\",\n",
    "    schema=\"PUBLIC\",\n",
    "    autocommit=True,\n",
    "    login_timeout=60,\n",
    "    network_timeout=30,\n",
    "    socket_timeout=15\n",
    ")\n"
   ]
  },
  {
   "cell_type": "code",
   "execution_count": null,
   "metadata": {},
   "outputs": [],
   "source": [
    "cur = conn.cursor()"
   ]
  },
  {
   "cell_type": "code",
   "execution_count": null,
   "metadata": {},
   "outputs": [],
   "source": [
    "\n",
    "cur.execute(\"select TITLE, AWS_ACCOUNT_NAME, FINDINGPROVIDERFIELDS_SEVERITY_LABEL from BUS_BATCAVE_SECURITY_DB.PUBLIC.SEC_VW_COMMERCIAL_SECHUB_FINDINGS_BY_BATCAVE_ACCOUNT_ID WHERE RECORDSTATE='ACTIVE' and WORKFLOW_STATUS='NEW' and PRODUCTNAME not in ('default', 'Inspector','GuardDuty') and CREATEDAT >= CURRENT_TIMESTAMP() - INTERVAL '24 hours'\")\n",
    "\n",
    "df = cur.fetch_pandas_all()\n",
    "for row in df.iterrows():\n",
    "    print(row[1][0])"
   ]
  },
  {
   "cell_type": "code",
   "execution_count": null,
   "metadata": {},
   "outputs": [],
   "source": [
    "# conn.cursor().execute(\"SHOW WAREHOUSES\")\n",
    "# row=conn.cursor().fetch()\n",
    "# print(row)\n",
    "\n",
    "cur.execute(\"select DISTINCT TITLE from BUS_BATCAVE_SECURITY_DB.PUBLIC.SEC_VW_COMMERCIAL_SECHUB_FINDINGS_BY_BATCAVE_ACCOUNT_ID WHERE RECORDSTATE='ACTIVE' and PRODUCTNAME not in ('Default', 'Inspector')\")\n",
    "\n",
    "df = cur.fetch_pandas_all()\n",
    "df"
   ]
  },
  {
   "cell_type": "code",
   "execution_count": null,
   "metadata": {},
   "outputs": [],
   "source": [
    "cur.execute(\"select distinct(AWS_ACCOUNT_ID), AWS_ACCOUNT_NAME from BUS_BATCAVE_SECURITY_DB.PUBLIC.SEC_VW_COMMERCIAL_SECHUB_FINDINGS_BY_BATCAVE_ACCOUNT_ID\")\n",
    "df = cur.fetch_pandas_all()\n",
    "df"
   ]
  },
  {
   "cell_type": "code",
   "execution_count": null,
   "metadata": {},
   "outputs": [],
   "source": [
    "cur.execute(\"select count(WORKFLOW_STATUS), WORKFLOW_STATUS from BUS_BATCAVE_SECURITY_DB.PUBLIC.SEC_VW_COMMERCIAL_SECHUB_FINDINGS_BY_BATCAVE_ACCOUNT_ID GROUP BY WORKFLOW_STATUS\")\n",
    "df = cur.fetch_pandas_all()\n",
    "df"
   ]
  },
  {
   "cell_type": "code",
   "execution_count": null,
   "metadata": {},
   "outputs": [],
   "source": [
    "cur.execute(\"select FINDINGPROVIDERFIELDS_TYPES from BUS_BATCAVE_SECURITY_DB.PUBLIC.SEC_VW_COMMERCIAL_SECHUB_FINDINGS_BY_BATCAVE_ACCOUNT_ID WHERE RECORDSTATE='ACTIVE'\")\n",
    "\n",
    "df = cur.fetch_pandas_all()\n",
    "df"
   ]
  },
  {
   "cell_type": "code",
   "execution_count": null,
   "metadata": {},
   "outputs": [],
   "source": [
    "cur.execute(\"select * from BUS_BATCAVE_SECURITY_DB.PUBLIC.SEC_VW_COMMERCIAL_SECHUB_FINDINGS_BY_BATCAVE_ACCOUNT_ID where AWS_ACCOUNT_NAME = 'batcave-prod' and PRODUCTNAME ='Security Hub' and AWS_ACCOUNT_ID='863306670509' and WORKFLOW_STATUS='NEW' and RECORDSTATE='ACTIVE'\")\n",
    "\n",
    "df = cur.fetch_pandas_all()\n",
    "df\n",
    "#df.to_csv('sechub_batcave_prod.csv')"
   ]
  },
  {
   "cell_type": "code",
   "execution_count": null,
   "metadata": {},
   "outputs": [],
   "source": [
    "cur.execute(\"select * from BUS_BATCAVE_SECURITY_DB.PUBLIC.SEC_VW_COMMERCIAL_SECHUB_FINDINGS_BY_BATCAVE_ACCOUNT_ID WHERE RECORDSTATE='ACTIVE' and WORKFLOW_STATUS='NEW' and PRODUCTNAME not in ('Default', 'Inspector', 'GuardDuty')\")\n",
    "df = cur.fetch_pandas_all()\n",
    "df.to_csv('sechub_all_open.csv')"
   ]
  },
  {
   "cell_type": "code",
   "execution_count": null,
   "metadata": {},
   "outputs": [],
   "source": [
    "cur.execute(\"select * from SEC_VW_VULN_AWS_BATCAVE WHERE SEVERITY_NAME in  ('Critical') and ACCOUNTID='863306670509' and ARRAY_SIZE(CVE)>1\")\n",
    "df = cur.fetch_pandas_all()\n",
    "df.to_csv(\"multiple_cves.csv\")"
   ]
  },
  {
   "cell_type": "code",
   "execution_count": null,
   "metadata": {},
   "outputs": [],
   "source": [
    "cur.execute(\"select INSTANCEID, SEVERITY_NAME, count(INSTANCEID) from SEC_VW_VULN_AWS_BATCAVE where ACCOUNTID='863306670509' and report_date>current_date-7 group by INSTANCEID, SEVERITY_NAME ORDER BY INSTANCEID\")\n",
    "df = cur.fetch_pandas_all()\n",
    "df"
   ]
  }
 ],
 "metadata": {
  "kernelspec": {
   "display_name": "Python 3",
   "language": "python",
   "name": "python3"
  },
  "language_info": {
   "codemirror_mode": {
    "name": "ipython",
    "version": 3
   },
   "file_extension": ".py",
   "mimetype": "text/x-python",
   "name": "python",
   "nbconvert_exporter": "python",
   "pygments_lexer": "ipython3",
   "version": "3.11.4"
  },
  "orig_nbformat": 4
 },
 "nbformat": 4,
 "nbformat_minor": 2
}
